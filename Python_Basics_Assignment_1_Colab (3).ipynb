{
  "cells": [
    {
      "cell_type": "code",
      "execution_count": 1,
      "id": "01bdc2bd",
      "metadata": {
        "colab": {
          "base_uri": "https://localhost:8080/"
        },
        "id": "01bdc2bd",
        "outputId": "a7c11e89-bb15-41ba-cd4f-21500b073097"
      },
      "outputs": [
        {
          "output_type": "stream",
          "name": "stdout",
          "text": [
            "Welcome to the Python Basics Assignment!\n"
          ]
        }
      ],
      "source": [
        "#@title Python Basics: Assignment 1 – Google Colab Version\n",
        "#@markdown This notebook contains the complete solution for Assignment 1.\n",
        "#@markdown ---\n",
        "print(\"Welcome to the Python Basics Assignment!\")"
      ]
    },
    {
      "cell_type": "markdown",
      "id": "c77857ba",
      "metadata": {
        "id": "c77857ba"
      },
      "source": [
        "# Python Basics: Assignment 1 – Solutions"
      ]
    },
    {
      "cell_type": "markdown",
      "id": "f828e51b",
      "metadata": {
        "id": "f828e51b"
      },
      "source": [
        "## Section 1: Numerical Data Types & Arithmetic Operators"
      ]
    },
    {
      "cell_type": "markdown",
      "id": "20ec9227",
      "metadata": {
        "id": "20ec9227"
      },
      "source": [
        "### a. Liters of fuel needed"
      ]
    },
    {
      "cell_type": "code",
      "execution_count": 2,
      "id": "e84b01b4",
      "metadata": {
        "colab": {
          "base_uri": "https://localhost:8080/"
        },
        "id": "e84b01b4",
        "outputId": "bdc152ae-d3b0-46c5-d22b-92f3e8d8511b"
      },
      "outputs": [
        {
          "output_type": "execute_result",
          "data": {
            "text/plain": [
              "41.30434782608695"
            ]
          },
          "metadata": {},
          "execution_count": 2
        }
      ],
      "source": [
        "fuel_efficiency = 11.5\n",
        "distance = 475\n",
        "fuel_needed = distance / fuel_efficiency\n",
        "fuel_needed"
      ]
    },
    {
      "cell_type": "markdown",
      "id": "1dc4bc8d",
      "metadata": {
        "id": "1dc4bc8d"
      },
      "source": [
        "**Explanation:** Distance divided by fuel efficiency gives fuel needed."
      ]
    },
    {
      "cell_type": "markdown",
      "id": "72c401d7",
      "metadata": {
        "id": "72c401d7"
      },
      "source": [
        "### b. Full tanks required (whole number)"
      ]
    },
    {
      "cell_type": "code",
      "execution_count": 3,
      "id": "117ae394",
      "metadata": {
        "colab": {
          "base_uri": "https://localhost:8080/"
        },
        "id": "117ae394",
        "outputId": "902beb3f-f023-4507-c4af-686d730896e8"
      },
      "outputs": [
        {
          "output_type": "execute_result",
          "data": {
            "text/plain": [
              "0.0"
            ]
          },
          "metadata": {},
          "execution_count": 3
        }
      ],
      "source": [
        "tank_capacity = 50\n",
        "full_tanks = distance // (fuel_efficiency * tank_capacity)\n",
        "full_tanks"
      ]
    },
    {
      "cell_type": "markdown",
      "id": "7adee673",
      "metadata": {
        "id": "7adee673"
      },
      "source": [
        "**Explanation:** We use floor division to get number of full tanks required."
      ]
    },
    {
      "cell_type": "markdown",
      "id": "188eca34",
      "metadata": {
        "id": "188eca34"
      },
      "source": [
        "### c. Total fuel cost"
      ]
    },
    {
      "cell_type": "code",
      "execution_count": 4,
      "id": "201a014f",
      "metadata": {
        "colab": {
          "base_uri": "https://localhost:8080/"
        },
        "id": "201a014f",
        "outputId": "e3f77ec5-5245-4d9e-af95-71bd94d9e4e8"
      },
      "outputs": [
        {
          "output_type": "execute_result",
          "data": {
            "text/plain": [
              "68.15217391304347"
            ]
          },
          "metadata": {},
          "execution_count": 4
        }
      ],
      "source": [
        "fuel_price = 1.65\n",
        "total_cost = fuel_needed * fuel_price\n",
        "total_cost"
      ]
    },
    {
      "cell_type": "markdown",
      "id": "875241c0",
      "metadata": {
        "id": "875241c0"
      },
      "source": [
        "**Explanation:** Multiply fuel needed by fuel price."
      ]
    },
    {
      "cell_type": "markdown",
      "id": "04e4d982",
      "metadata": {
        "id": "04e4d982"
      },
      "source": [
        "### d. Liters remaining"
      ]
    },
    {
      "cell_type": "code",
      "execution_count": 5,
      "id": "922397fc",
      "metadata": {
        "colab": {
          "base_uri": "https://localhost:8080/"
        },
        "id": "922397fc",
        "outputId": "4d8ab351-fa9c-43d7-8e67-44e60925e63e"
      },
      "outputs": [
        {
          "output_type": "execute_result",
          "data": {
            "text/plain": [
              "8.695652173913047"
            ]
          },
          "metadata": {},
          "execution_count": 5
        }
      ],
      "source": [
        "fuel_remaining = tank_capacity - fuel_needed\n",
        "fuel_remaining"
      ]
    },
    {
      "cell_type": "markdown",
      "id": "0f3b5c02",
      "metadata": {
        "id": "0f3b5c02"
      },
      "source": [
        "**Explanation:** Full tank minus fuel used gives fuel remaining."
      ]
    },
    {
      "cell_type": "markdown",
      "id": "b300e10a",
      "metadata": {
        "id": "b300e10a"
      },
      "source": [
        "## Section 2: Comparison & Logical Operators"
      ]
    },
    {
      "cell_type": "markdown",
      "id": "ed36491b",
      "metadata": {
        "id": "ed36491b"
      },
      "source": [
        "### a. Discount eligibility"
      ]
    },
    {
      "cell_type": "code",
      "execution_count": 6,
      "id": "b230d7f3",
      "metadata": {
        "colab": {
          "base_uri": "https://localhost:8080/"
        },
        "id": "b230d7f3",
        "outputId": "efa4ef03-569c-4410-8ac9-76c1df87d852"
      },
      "outputs": [
        {
          "output_type": "execute_result",
          "data": {
            "text/plain": [
              "False"
            ]
          },
          "metadata": {},
          "execution_count": 6
        }
      ],
      "source": [
        "age = 30\n",
        "is_weekday = True\n",
        "is_family_day = False\n",
        "group_size = 3\n",
        "discount = ((age <= 12 and is_weekday) or (age >= 65) or (is_family_day and group_size >= 4))\n",
        "discount"
      ]
    },
    {
      "cell_type": "markdown",
      "id": "bc126e75",
      "metadata": {
        "id": "bc126e75"
      },
      "source": [
        "### b. Updated values"
      ]
    },
    {
      "cell_type": "code",
      "execution_count": 7,
      "id": "292afa07",
      "metadata": {
        "colab": {
          "base_uri": "https://localhost:8080/"
        },
        "id": "292afa07",
        "outputId": "6bf3db14-1a0a-40ff-888a-597fb36947be"
      },
      "outputs": [
        {
          "output_type": "execute_result",
          "data": {
            "text/plain": [
              "True"
            ]
          },
          "metadata": {},
          "execution_count": 7
        }
      ],
      "source": [
        "age = 10\n",
        "is_weekday = True\n",
        "is_family_day = False\n",
        "group_size = 2\n",
        "discount = ((age <= 12 and is_weekday) or (age >= 65) or (is_family_day and group_size >= 4))\n",
        "discount"
      ]
    },
    {
      "cell_type": "markdown",
      "id": "80258c07",
      "metadata": {
        "id": "80258c07"
      },
      "source": [
        "### c. Evaluation breakdown"
      ]
    },
    {
      "cell_type": "markdown",
      "id": "c25ac7c1",
      "metadata": {
        "id": "c25ac7c1"
      },
      "source": [
        "The expression is evaluated step by step using Python's logical operators. First, the condition `age <= 12` is `True`, and `is_weekday` is also `True`, so their combined expression `age <= 12 and is_weekday` evaluates to `True`. The next condition, `age >= 65`, is `False` since the person is not a senior. The final condition, `is_family_day and group_size >= 4`, also evaluates to `False` because it is not Family Day and the group size is less than 4. Putting it all together, the full expression becomes `True or False or False`, which evaluates to `True`. This means the person qualifies for a discount under the first rule.\n"
      ]
    },
    {
      "cell_type": "markdown",
      "id": "40553ae1",
      "metadata": {
        "id": "40553ae1"
      },
      "source": [
        "## Section 3: String Indexing & Slicing"
      ]
    },
    {
      "cell_type": "code",
      "execution_count": 8,
      "id": "b9a20a7d",
      "metadata": {
        "id": "b9a20a7d"
      },
      "outputs": [],
      "source": [
        "secret_message = \"PyThoN_Is_FuN_AnD_PoWeRfUl!\""
      ]
    },
    {
      "cell_type": "markdown",
      "id": "d258686f",
      "metadata": {
        "id": "d258686f"
      },
      "source": [
        "### a. Character at index 5"
      ]
    },
    {
      "cell_type": "code",
      "execution_count": 9,
      "id": "158d2f9b",
      "metadata": {
        "colab": {
          "base_uri": "https://localhost:8080/",
          "height": 35
        },
        "id": "158d2f9b",
        "outputId": "390dec22-5069-4814-f515-aff95fa2461d"
      },
      "outputs": [
        {
          "output_type": "execute_result",
          "data": {
            "text/plain": [
              "'N'"
            ],
            "application/vnd.google.colaboratory.intrinsic+json": {
              "type": "string"
            }
          },
          "metadata": {},
          "execution_count": 9
        }
      ],
      "source": [
        "secret_message[5]"
      ]
    },
    {
      "cell_type": "markdown",
      "id": "d439a72f",
      "metadata": {
        "id": "d439a72f"
      },
      "source": [
        "### b. Extract 'Is_FuN'"
      ]
    },
    {
      "cell_type": "code",
      "execution_count": 10,
      "id": "ee2eb311",
      "metadata": {
        "colab": {
          "base_uri": "https://localhost:8080/",
          "height": 35
        },
        "id": "ee2eb311",
        "outputId": "bc791ba6-23f2-4add-a4ca-2861bca95159"
      },
      "outputs": [
        {
          "output_type": "execute_result",
          "data": {
            "text/plain": [
              "'Is_FuN'"
            ],
            "application/vnd.google.colaboratory.intrinsic+json": {
              "type": "string"
            }
          },
          "metadata": {},
          "execution_count": 10
        }
      ],
      "source": [
        "secret_message[7:13]"
      ]
    },
    {
      "cell_type": "markdown",
      "id": "42af1459",
      "metadata": {
        "id": "42af1459"
      },
      "source": [
        "### c. Extract 'PoWeRfUl' using negative indexing"
      ]
    },
    {
      "cell_type": "code",
      "execution_count": 11,
      "id": "10a9937d",
      "metadata": {
        "colab": {
          "base_uri": "https://localhost:8080/",
          "height": 35
        },
        "id": "10a9937d",
        "outputId": "ef60febf-e3b8-4707-b257-7638360e98e8"
      },
      "outputs": [
        {
          "output_type": "execute_result",
          "data": {
            "text/plain": [
              "'PoWeRfUl'"
            ],
            "application/vnd.google.colaboratory.intrinsic+json": {
              "type": "string"
            }
          },
          "metadata": {},
          "execution_count": 11
        }
      ],
      "source": [
        "secret_message[-9:-1]"
      ]
    },
    {
      "cell_type": "markdown",
      "id": "1481b165",
      "metadata": {
        "id": "1481b165"
      },
      "source": [
        "### d. Every 4th character from index 0"
      ]
    },
    {
      "cell_type": "code",
      "execution_count": 12,
      "id": "159848dc",
      "metadata": {
        "colab": {
          "base_uri": "https://localhost:8080/",
          "height": 35
        },
        "id": "159848dc",
        "outputId": "35e25a22-3352-479c-b7fe-346a1341e690"
      },
      "outputs": [
        {
          "output_type": "execute_result",
          "data": {
            "text/plain": [
              "'PosNDWU'"
            ],
            "application/vnd.google.colaboratory.intrinsic+json": {
              "type": "string"
            }
          },
          "metadata": {},
          "execution_count": 12
        }
      ],
      "source": [
        "secret_message[0::4]"
      ]
    },
    {
      "cell_type": "markdown",
      "id": "64d3bec4",
      "metadata": {
        "id": "64d3bec4"
      },
      "source": [
        "### e. What happens with index 50?"
      ]
    },
    {
      "cell_type": "code",
      "execution_count": 13,
      "id": "562a5a63",
      "metadata": {
        "id": "562a5a63"
      },
      "outputs": [],
      "source": [
        "# secret_message[50]  # Uncomment to see IndexError"
      ]
    },
    {
      "cell_type": "markdown",
      "id": "115e8916",
      "metadata": {
        "id": "115e8916"
      },
      "source": [
        "**Explanation:** Index 50 is out of range. The string has only 26 characters."
      ]
    },
    {
      "cell_type": "markdown",
      "id": "53983413",
      "metadata": {
        "id": "53983413"
      },
      "source": [
        "## Section 4: Boolean Values & Expressions"
      ]
    },
    {
      "cell_type": "code",
      "execution_count": 15,
      "id": "200da701",
      "metadata": {
        "id": "200da701"
      },
      "outputs": [],
      "source": [
        "x = 15\n",
        "y = 25\n",
        "z = 15\n",
        "text = 'adventure'"
      ]
    },
    {
      "cell_type": "markdown",
      "id": "f3116190",
      "metadata": {
        "id": "f3116190"
      },
      "source": [
        "### a. (x == z) and (y > x)"
      ]
    },
    {
      "cell_type": "code",
      "execution_count": 16,
      "id": "ce54c2df",
      "metadata": {
        "colab": {
          "base_uri": "https://localhost:8080/"
        },
        "id": "ce54c2df",
        "outputId": "d0ddb1ec-061e-4a02-8cac-1fac57f0b199"
      },
      "outputs": [
        {
          "output_type": "execute_result",
          "data": {
            "text/plain": [
              "True"
            ]
          },
          "metadata": {},
          "execution_count": 16
        }
      ],
      "source": [
        "(x == z) and (y > x)"
      ]
    },
    {
      "cell_type": "markdown",
      "id": "9fa85fff",
      "metadata": {
        "id": "9fa85fff"
      },
      "source": [
        "### b. (x != z) or (y < x) or (len(text) < 5)"
      ]
    },
    {
      "cell_type": "code",
      "execution_count": 17,
      "id": "b0a6d24d",
      "metadata": {
        "colab": {
          "base_uri": "https://localhost:8080/"
        },
        "id": "b0a6d24d",
        "outputId": "887f723b-5f37-4284-8831-01cd4192a811"
      },
      "outputs": [
        {
          "output_type": "execute_result",
          "data": {
            "text/plain": [
              "False"
            ]
          },
          "metadata": {},
          "execution_count": 17
        }
      ],
      "source": [
        "(x != z) or (y < x) or (len(text) < 5)"
      ]
    },
    {
      "cell_type": "markdown",
      "id": "1e52e73f",
      "metadata": {
        "id": "1e52e73f"
      },
      "source": [
        "### c. not ((x > y) and (text == 'Adventure'))"
      ]
    },
    {
      "cell_type": "code",
      "execution_count": 18,
      "id": "626cc739",
      "metadata": {
        "colab": {
          "base_uri": "https://localhost:8080/"
        },
        "id": "626cc739",
        "outputId": "e5934309-5abb-497a-bf18-3bf3250b61af"
      },
      "outputs": [
        {
          "output_type": "execute_result",
          "data": {
            "text/plain": [
              "True"
            ]
          },
          "metadata": {},
          "execution_count": 18
        }
      ],
      "source": [
        "not ((x > y) and (text == 'Adventure'))"
      ]
    },
    {
      "cell_type": "markdown",
      "id": "8b51af5f",
      "metadata": {
        "id": "8b51af5f"
      },
      "source": [
        "## Section 5: String Properties & Methods"
      ]
    },
    {
      "cell_type": "markdown",
      "id": "f2252708",
      "metadata": {
        "id": "f2252708"
      },
      "source": [
        "### a. Why does `username[0] = 'm'` fail?"
      ]
    },
    {
      "cell_type": "markdown",
      "id": "7355716c",
      "metadata": {
        "id": "7355716c"
      },
      "source": [
        "**Explanation:** Strings are immutable. You cannot assign to a character directly."
      ]
    },
    {
      "cell_type": "markdown",
      "id": "ec54b8a5",
      "metadata": {
        "id": "ec54b8a5"
      },
      "source": [
        "### b. Quote transformation"
      ]
    },
    {
      "cell_type": "code",
      "execution_count": 19,
      "id": "28356435",
      "metadata": {
        "colab": {
          "base_uri": "https://localhost:8080/",
          "height": 35
        },
        "id": "28356435",
        "outputId": "84392adf-a7d3-483a-bf40-fe2a617cec96"
      },
      "outputs": [
        {
          "output_type": "execute_result",
          "data": {
            "text/plain": [
              "'PRACTICE MAKES PROGRESS'"
            ],
            "application/vnd.google.colaboratory.intrinsic+json": {
              "type": "string"
            }
          },
          "metadata": {},
          "execution_count": 19
        }
      ],
      "source": [
        "quote = ' practice makes perfect '\n",
        "formatted_quote = quote.strip().upper().replace('PERFECT', 'PROGRESS')\n",
        "formatted_quote"
      ]
    },
    {
      "cell_type": "markdown",
      "id": "3a37992d",
      "metadata": {
        "id": "3a37992d"
      },
      "source": [
        "### c. Lengths of original and formatted quotes"
      ]
    },
    {
      "cell_type": "code",
      "execution_count": 20,
      "id": "5e615b38",
      "metadata": {
        "colab": {
          "base_uri": "https://localhost:8080/"
        },
        "id": "5e615b38",
        "outputId": "187d4aab-53c5-4871-bd4b-291d99941b39"
      },
      "outputs": [
        {
          "output_type": "execute_result",
          "data": {
            "text/plain": [
              "(24, 23)"
            ]
          },
          "metadata": {},
          "execution_count": 20
        }
      ],
      "source": [
        "original_length = len(' practice makes perfect ')\n",
        "formatted_length = len(formatted_quote)\n",
        "original_length, formatted_length"
      ]
    }
  ],
  "metadata": {
    "colab": {
      "provenance": []
    },
    "language_info": {
      "name": "python"
    },
    "kernelspec": {
      "name": "python3",
      "display_name": "Python 3"
    }
  },
  "nbformat": 4,
  "nbformat_minor": 5
}